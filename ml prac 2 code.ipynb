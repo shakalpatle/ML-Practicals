{
  "nbformat": 4,
  "nbformat_minor": 0,
  "metadata": {
    "colab": {
      "provenance": []
    },
    "kernelspec": {
      "name": "python3",
      "display_name": "Python 3"
    },
    "language_info": {
      "name": "python"
    }
  },
  "cells": [
    {
      "cell_type": "code",
      "execution_count": null,
      "metadata": {
        "colab": {
          "base_uri": "https://localhost:8080/"
        },
        "id": "9H9aFrdvoGbe",
        "outputId": "cc884501-b3a3-4f66-ea9f-ee63f202604d"
      },
      "outputs": [
        {
          "output_type": "stream",
          "name": "stdout",
          "text": [
            "Confusion Matrix \n",
            " [[5 1]\n",
            " [1 3]]\n",
            "Report\n",
            "               precision    recall  f1-score   support\n",
            "\n",
            "           0       0.83      0.83      0.83         6\n",
            "           1       0.75      0.75      0.75         4\n",
            "\n",
            "    accuracy                           0.80        10\n",
            "   macro avg       0.79      0.79      0.79        10\n",
            "weighted avg       0.80      0.80      0.80        10\n",
            "\n"
          ]
        }
      ],
      "source": [
        "from sklearn.metrics import confusion_matrix\n",
        "from sklearn.metrics import classification_report\n",
        "import matplotlib.pyplot as plt\n",
        "A=[1,0,0,1,0,0,0,1,0,1]\n",
        "P=[1,0,1,1,0,0,0,1,0,0]\n",
        "matrix=confusion_matrix(A,P)\n",
        "print('Confusion Matrix \\n',matrix)\n",
        "\n",
        "Labels_Classification=classification_report(A,P)\n",
        "print(\"Report\\n\", Labels_Classification) "
      ]
    }
  ]
}